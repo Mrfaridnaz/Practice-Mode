{
 "cells": [
  {
   "cell_type": "code",
   "execution_count": 1,
   "id": "2bd41c6c",
   "metadata": {},
   "outputs": [],
   "source": [
    "import numpy as np"
   ]
  },
  {
   "cell_type": "code",
   "execution_count": 2,
   "id": "33806a31",
   "metadata": {},
   "outputs": [],
   "source": [
    "# creating Arrays"
   ]
  },
  {
   "cell_type": "code",
   "execution_count": 3,
   "id": "d373490a",
   "metadata": {},
   "outputs": [],
   "source": [
    "List=[1,2,3,4,5] # Creating 1-D array from a List"
   ]
  },
  {
   "cell_type": "code",
   "execution_count": 4,
   "id": "71184936",
   "metadata": {},
   "outputs": [],
   "source": [
    "arr=np.array(List)"
   ]
  },
  {
   "cell_type": "code",
   "execution_count": 5,
   "id": "c3069d19",
   "metadata": {},
   "outputs": [
    {
     "data": {
      "text/plain": [
       "array([1, 2, 3, 4, 5])"
      ]
     },
     "execution_count": 5,
     "metadata": {},
     "output_type": "execute_result"
    }
   ],
   "source": [
    "arr"
   ]
  },
  {
   "cell_type": "code",
   "execution_count": 8,
   "id": "2a0bb346",
   "metadata": {},
   "outputs": [],
   "source": [
    "# creating multi dimentions arrays from List of List"
   ]
  },
  {
   "cell_type": "code",
   "execution_count": 12,
   "id": "90504461",
   "metadata": {},
   "outputs": [],
   "source": [
    "Li1=[1,2,3,4,5]\n",
    "Li2=[1,3,5,7,9]\n",
    "\n",
    "arr1=np.array([Li1,Li2])"
   ]
  },
  {
   "cell_type": "code",
   "execution_count": 13,
   "id": "e4358b43",
   "metadata": {},
   "outputs": [
    {
     "data": {
      "text/plain": [
       "array([[1, 2, 3, 4, 5],\n",
       "       [1, 3, 5, 7, 9]])"
      ]
     },
     "execution_count": 13,
     "metadata": {},
     "output_type": "execute_result"
    }
   ],
   "source": [
    "arr1"
   ]
  },
  {
   "cell_type": "code",
   "execution_count": 14,
   "id": "5a10cacf",
   "metadata": {},
   "outputs": [],
   "source": [
    "# Special Case of Array"
   ]
  },
  {
   "cell_type": "code",
   "execution_count": 15,
   "id": "dad62ee3",
   "metadata": {},
   "outputs": [
    {
     "data": {
      "text/plain": [
       "array([0., 0., 0., 0., 0.])"
      ]
     },
     "execution_count": 15,
     "metadata": {},
     "output_type": "execute_result"
    }
   ],
   "source": [
    "np.zeros(5)"
   ]
  },
  {
   "cell_type": "code",
   "execution_count": 16,
   "id": "a2a5ea91",
   "metadata": {},
   "outputs": [],
   "source": [
    "# Identity Array"
   ]
  },
  {
   "cell_type": "code",
   "execution_count": 23,
   "id": "ac38f757",
   "metadata": {},
   "outputs": [
    {
     "data": {
      "text/plain": [
       "array([[1., 0., 0., 0., 0.],\n",
       "       [0., 1., 0., 0., 0.],\n",
       "       [0., 0., 1., 0., 0.],\n",
       "       [0., 0., 0., 1., 0.],\n",
       "       [0., 0., 0., 0., 1.]])"
      ]
     },
     "execution_count": 23,
     "metadata": {},
     "output_type": "execute_result"
    }
   ],
   "source": [
    "np.eye(5)"
   ]
  },
  {
   "cell_type": "code",
   "execution_count": 19,
   "id": "e88bdd96",
   "metadata": {
    "scrolled": true
   },
   "outputs": [
    {
     "data": {
      "text/plain": [
       "array([1., 1., 1., 1.])"
      ]
     },
     "execution_count": 19,
     "metadata": {},
     "output_type": "execute_result"
    }
   ],
   "source": [
    "np.ones(4)"
   ]
  },
  {
   "cell_type": "code",
   "execution_count": 21,
   "id": "0110a46e",
   "metadata": {},
   "outputs": [
    {
     "data": {
      "text/plain": [
       "array([[1., 1., 1., 1.],\n",
       "       [1., 1., 1., 1.],\n",
       "       [1., 1., 1., 1.],\n",
       "       [1., 1., 1., 1.]])"
      ]
     },
     "execution_count": 21,
     "metadata": {},
     "output_type": "execute_result"
    }
   ],
   "source": [
    "np.ones((4,4))"
   ]
  },
  {
   "cell_type": "code",
   "execution_count": 27,
   "id": "dcafd3a6",
   "metadata": {},
   "outputs": [
    {
     "data": {
      "text/plain": [
       "array([[1., 0., 0., 0., 0.],\n",
       "       [0., 1., 0., 0., 0.],\n",
       "       [0., 0., 1., 0., 0.],\n",
       "       [0., 0., 0., 1., 0.],\n",
       "       [0., 0., 0., 0., 1.]])"
      ]
     },
     "execution_count": 27,
     "metadata": {},
     "output_type": "execute_result"
    }
   ],
   "source": [
    "np.empty((5,5))"
   ]
  },
  {
   "cell_type": "code",
   "execution_count": 28,
   "id": "d781a59b",
   "metadata": {},
   "outputs": [
    {
     "data": {
      "text/plain": [
       "array([1., 1., 1., 1., 1.])"
      ]
     },
     "execution_count": 28,
     "metadata": {},
     "output_type": "execute_result"
    }
   ],
   "source": [
    "np.empty(5)"
   ]
  },
  {
   "cell_type": "code",
   "execution_count": 29,
   "id": "c423ceb2",
   "metadata": {},
   "outputs": [],
   "source": [
    "# Creating the Array by Range"
   ]
  },
  {
   "cell_type": "code",
   "execution_count": 35,
   "id": "0fca6ba2",
   "metadata": {},
   "outputs": [
    {
     "ename": "AttributeError",
     "evalue": "module 'numpy' has no attribute 'range'",
     "output_type": "error",
     "traceback": [
      "\u001b[1;31m---------------------------------------------------------------------------\u001b[0m",
      "\u001b[1;31mAttributeError\u001b[0m                            Traceback (most recent call last)",
      "Cell \u001b[1;32mIn[35], line 1\u001b[0m\n\u001b[1;32m----> 1\u001b[0m arr2\u001b[38;5;241m=\u001b[39m\u001b[43mnp\u001b[49m\u001b[38;5;241;43m.\u001b[39;49m\u001b[43mrange\u001b[49m(\u001b[38;5;241m2\u001b[39m,\u001b[38;5;241m10\u001b[39m,\u001b[38;5;241m2\u001b[39m)\n",
      "File \u001b[1;32m~\\New folder\\lib\\site-packages\\numpy\\__init__.py:311\u001b[0m, in \u001b[0;36m__getattr__\u001b[1;34m(attr)\u001b[0m\n\u001b[0;32m    308\u001b[0m     \u001b[38;5;28;01mfrom\u001b[39;00m \u001b[38;5;21;01m.\u001b[39;00m\u001b[38;5;21;01mtesting\u001b[39;00m \u001b[38;5;28;01mimport\u001b[39;00m Tester\n\u001b[0;32m    309\u001b[0m     \u001b[38;5;28;01mreturn\u001b[39;00m Tester\n\u001b[1;32m--> 311\u001b[0m \u001b[38;5;28;01mraise\u001b[39;00m \u001b[38;5;167;01mAttributeError\u001b[39;00m(\u001b[38;5;124m\"\u001b[39m\u001b[38;5;124mmodule \u001b[39m\u001b[38;5;132;01m{!r}\u001b[39;00m\u001b[38;5;124m has no attribute \u001b[39m\u001b[38;5;124m\"\u001b[39m\n\u001b[0;32m    312\u001b[0m                      \u001b[38;5;124m\"\u001b[39m\u001b[38;5;132;01m{!r}\u001b[39;00m\u001b[38;5;124m\"\u001b[39m\u001b[38;5;241m.\u001b[39mformat(\u001b[38;5;18m__name__\u001b[39m, attr))\n",
      "\u001b[1;31mAttributeError\u001b[0m: module 'numpy' has no attribute 'range'"
     ]
    }
   ],
   "source": [
    "arr2=np.range(2,10,2)"
   ]
  },
  {
   "cell_type": "code",
   "execution_count": 38,
   "id": "a018b01b",
   "metadata": {},
   "outputs": [],
   "source": [
    "arr3=np.arange(2,10)"
   ]
  },
  {
   "cell_type": "code",
   "execution_count": 39,
   "id": "50671d39",
   "metadata": {},
   "outputs": [
    {
     "data": {
      "text/plain": [
       "array([2, 3, 4, 5, 6, 7, 8, 9])"
      ]
     },
     "execution_count": 39,
     "metadata": {},
     "output_type": "execute_result"
    }
   ],
   "source": [
    "arr3"
   ]
  },
  {
   "cell_type": "code",
   "execution_count": 40,
   "id": "1f1a54ce",
   "metadata": {},
   "outputs": [],
   "source": [
    "arr4=np.arange(2,10,2)"
   ]
  },
  {
   "cell_type": "code",
   "execution_count": 41,
   "id": "90d0383d",
   "metadata": {},
   "outputs": [
    {
     "data": {
      "text/plain": [
       "array([2, 4, 6, 8])"
      ]
     },
     "execution_count": 41,
     "metadata": {},
     "output_type": "execute_result"
    }
   ],
   "source": [
    "arr4"
   ]
  },
  {
   "cell_type": "code",
   "execution_count": 42,
   "id": "38de03db",
   "metadata": {},
   "outputs": [],
   "source": [
    "ar5=np.arange(2,10,2.5)"
   ]
  },
  {
   "cell_type": "code",
   "execution_count": 43,
   "id": "d80398c2",
   "metadata": {},
   "outputs": [
    {
     "data": {
      "text/plain": [
       "array([2. , 4.5, 7. , 9.5])"
      ]
     },
     "execution_count": 43,
     "metadata": {},
     "output_type": "execute_result"
    }
   ],
   "source": [
    "ar5"
   ]
  },
  {
   "cell_type": "code",
   "execution_count": 44,
   "id": "d98a3691",
   "metadata": {},
   "outputs": [],
   "source": [
    "# Using Array and Scalars"
   ]
  },
  {
   "cell_type": "code",
   "execution_count": 46,
   "id": "38dcda1b",
   "metadata": {},
   "outputs": [],
   "source": [
    "ar6=np.array([[1,2,3],[4,5,6]])"
   ]
  },
  {
   "cell_type": "code",
   "execution_count": 47,
   "id": "6eac23ce",
   "metadata": {},
   "outputs": [
    {
     "data": {
      "text/plain": [
       "array([[1, 2, 3],\n",
       "       [4, 5, 6]])"
      ]
     },
     "execution_count": 47,
     "metadata": {},
     "output_type": "execute_result"
    }
   ],
   "source": [
    "ar6"
   ]
  },
  {
   "cell_type": "code",
   "execution_count": 48,
   "id": "5247f6a8",
   "metadata": {},
   "outputs": [],
   "source": [
    "ar7=ar6+ar6 # Adding Array"
   ]
  },
  {
   "cell_type": "code",
   "execution_count": 49,
   "id": "e9b7abe6",
   "metadata": {},
   "outputs": [
    {
     "data": {
      "text/plain": [
       "array([[ 2,  4,  6],\n",
       "       [ 8, 10, 12]])"
      ]
     },
     "execution_count": 49,
     "metadata": {},
     "output_type": "execute_result"
    }
   ],
   "source": [
    "ar7"
   ]
  },
  {
   "cell_type": "code",
   "execution_count": 51,
   "id": "4e98f7fb",
   "metadata": {},
   "outputs": [
    {
     "data": {
      "text/plain": [
       "array([[ 1,  4,  9],\n",
       "       [16, 25, 36]])"
      ]
     },
     "execution_count": 51,
     "metadata": {},
     "output_type": "execute_result"
    }
   ],
   "source": [
    "ar6*ar6  # Multiplying array Elemnet to element"
   ]
  },
  {
   "cell_type": "code",
   "execution_count": 54,
   "id": "90ffa804",
   "metadata": {},
   "outputs": [
    {
     "data": {
      "text/plain": [
       "array([[0, 0, 0],\n",
       "       [0, 0, 0]])"
      ]
     },
     "execution_count": 54,
     "metadata": {},
     "output_type": "execute_result"
    }
   ],
   "source": [
    "ar6-ar6  # Substracting Array"
   ]
  },
  {
   "cell_type": "code",
   "execution_count": 57,
   "id": "9195140b",
   "metadata": {},
   "outputs": [],
   "source": [
    "# Division Array (Floating Point)"
   ]
  },
  {
   "cell_type": "code",
   "execution_count": 58,
   "id": "6deae6ef",
   "metadata": {},
   "outputs": [
    {
     "data": {
      "text/plain": [
       "array([[0.5, 1. , 1.5],\n",
       "       [2. , 2.5, 3. ]])"
      ]
     },
     "execution_count": 58,
     "metadata": {},
     "output_type": "execute_result"
    }
   ],
   "source": [
    "ar6/2"
   ]
  },
  {
   "cell_type": "code",
   "execution_count": 60,
   "id": "e27163a2",
   "metadata": {},
   "outputs": [],
   "source": [
    "# Indexing Array"
   ]
  },
  {
   "cell_type": "code",
   "execution_count": 73,
   "id": "28548686",
   "metadata": {},
   "outputs": [],
   "source": [
    "arr11=np.array((1,2,3,4,5,6,7,10)) # 1-D Array"
   ]
  },
  {
   "cell_type": "code",
   "execution_count": 74,
   "id": "259f8a8b",
   "metadata": {},
   "outputs": [
    {
     "data": {
      "text/plain": [
       "array([ 1,  2,  3,  4,  5,  6,  7, 10])"
      ]
     },
     "execution_count": 74,
     "metadata": {},
     "output_type": "execute_result"
    }
   ],
   "source": [
    "arr11"
   ]
  },
  {
   "cell_type": "code",
   "execution_count": 75,
   "id": "855ee1e0",
   "metadata": {},
   "outputs": [
    {
     "data": {
      "text/plain": [
       "2"
      ]
     },
     "execution_count": 75,
     "metadata": {},
     "output_type": "execute_result"
    }
   ],
   "source": [
    "arr11[1]"
   ]
  },
  {
   "cell_type": "code",
   "execution_count": 76,
   "id": "53dcd985",
   "metadata": {},
   "outputs": [
    {
     "data": {
      "text/plain": [
       "5"
      ]
     },
     "execution_count": 76,
     "metadata": {},
     "output_type": "execute_result"
    }
   ],
   "source": [
    "arr11[4]"
   ]
  },
  {
   "cell_type": "code",
   "execution_count": 77,
   "id": "36c608a8",
   "metadata": {},
   "outputs": [
    {
     "data": {
      "text/plain": [
       "array([2, 3])"
      ]
     },
     "execution_count": 77,
     "metadata": {},
     "output_type": "execute_result"
    }
   ],
   "source": [
    "arr11[1:3]"
   ]
  },
  {
   "cell_type": "code",
   "execution_count": 78,
   "id": "f85963da",
   "metadata": {},
   "outputs": [
    {
     "data": {
      "text/plain": [
       "array([2, 3, 4, 5, 6, 7])"
      ]
     },
     "execution_count": 78,
     "metadata": {},
     "output_type": "execute_result"
    }
   ],
   "source": [
    "arr11[1:7]"
   ]
  },
  {
   "cell_type": "code",
   "execution_count": 81,
   "id": "5937d7db",
   "metadata": {},
   "outputs": [],
   "source": [
    "# Indexing 2-D array"
   ]
  },
  {
   "cell_type": "code",
   "execution_count": 68,
   "id": "35bcdef9",
   "metadata": {},
   "outputs": [],
   "source": [
    "arr=np.array([[1,2,3,4,5],[1,3,5,7,9]])"
   ]
  },
  {
   "cell_type": "code",
   "execution_count": 69,
   "id": "3da3e311",
   "metadata": {},
   "outputs": [
    {
     "data": {
      "text/plain": [
       "array([[1, 2, 3, 4, 5],\n",
       "       [1, 3, 5, 7, 9]])"
      ]
     },
     "execution_count": 69,
     "metadata": {},
     "output_type": "execute_result"
    }
   ],
   "source": [
    "arr"
   ]
  },
  {
   "cell_type": "code",
   "execution_count": 71,
   "id": "bd3d29a6",
   "metadata": {},
   "outputs": [
    {
     "data": {
      "text/plain": [
       "5"
      ]
     },
     "execution_count": 71,
     "metadata": {},
     "output_type": "execute_result"
    }
   ],
   "source": [
    "arr[1][2]  # 1st row and 2nd Column"
   ]
  },
  {
   "cell_type": "code",
   "execution_count": 92,
   "id": "c8396174",
   "metadata": {},
   "outputs": [],
   "source": [
    "ar2=np.array([[1,2,3,4,5],[1,3,5,7,9],[1,4,7,11,15]])"
   ]
  },
  {
   "cell_type": "code",
   "execution_count": 93,
   "id": "02afe3a1",
   "metadata": {},
   "outputs": [
    {
     "data": {
      "text/plain": [
       "array([[ 1,  2,  3,  4,  5],\n",
       "       [ 1,  3,  5,  7,  9],\n",
       "       [ 1,  4,  7, 11, 15]])"
      ]
     },
     "execution_count": 93,
     "metadata": {},
     "output_type": "execute_result"
    }
   ],
   "source": [
    "ar2"
   ]
  },
  {
   "cell_type": "code",
   "execution_count": 94,
   "id": "c02b144b",
   "metadata": {},
   "outputs": [],
   "source": [
    "# arr[row,col]  or  arr[row][col]"
   ]
  },
  {
   "cell_type": "code",
   "execution_count": 95,
   "id": "48b67d1b",
   "metadata": {},
   "outputs": [
    {
     "data": {
      "text/plain": [
       "7"
      ]
     },
     "execution_count": 95,
     "metadata": {},
     "output_type": "execute_result"
    }
   ],
   "source": [
    "ar2[1,3]"
   ]
  },
  {
   "cell_type": "code",
   "execution_count": 96,
   "id": "818d02c5",
   "metadata": {},
   "outputs": [
    {
     "data": {
      "text/plain": [
       "7"
      ]
     },
     "execution_count": 96,
     "metadata": {},
     "output_type": "execute_result"
    }
   ],
   "source": [
    "ar2[1][3]"
   ]
  },
  {
   "cell_type": "code",
   "execution_count": 99,
   "id": "dc0c6fbc",
   "metadata": {},
   "outputs": [
    {
     "data": {
      "text/plain": [
       "array([[1, 2, 3],\n",
       "       [1, 3, 5]])"
      ]
     },
     "execution_count": 99,
     "metadata": {},
     "output_type": "execute_result"
    }
   ],
   "source": [
    "ar2[:2,:3]   # [select the array, select the elements]"
   ]
  },
  {
   "cell_type": "code",
   "execution_count": 100,
   "id": "e6a22823",
   "metadata": {},
   "outputs": [],
   "source": [
    "# Fancy indexing"
   ]
  },
  {
   "cell_type": "code",
   "execution_count": 102,
   "id": "153b6f0e",
   "metadata": {},
   "outputs": [],
   "source": [
    "arr=np.array([[1,2,3,4,5,6,7],[9,8,10,11,12,13,14],[15,16,17,18,19,20,21]])"
   ]
  },
  {
   "cell_type": "code",
   "execution_count": 103,
   "id": "e46b77bf",
   "metadata": {},
   "outputs": [
    {
     "data": {
      "text/plain": [
       "array([[ 1,  2,  3,  4,  5,  6,  7],\n",
       "       [ 9,  8, 10, 11, 12, 13, 14],\n",
       "       [15, 16, 17, 18, 19, 20, 21]])"
      ]
     },
     "execution_count": 103,
     "metadata": {},
     "output_type": "execute_result"
    }
   ],
   "source": [
    "arr"
   ]
  },
  {
   "cell_type": "code",
   "execution_count": 105,
   "id": "5147d67c",
   "metadata": {},
   "outputs": [
    {
     "data": {
      "text/plain": [
       "array([1, 2, 3, 4, 5, 6, 7])"
      ]
     },
     "execution_count": 105,
     "metadata": {},
     "output_type": "execute_result"
    }
   ],
   "source": [
    "arr[0]"
   ]
  },
  {
   "cell_type": "code",
   "execution_count": 106,
   "id": "af319522",
   "metadata": {},
   "outputs": [
    {
     "data": {
      "text/plain": [
       "array([ 9,  8, 10, 11, 12, 13, 14])"
      ]
     },
     "execution_count": 106,
     "metadata": {},
     "output_type": "execute_result"
    }
   ],
   "source": [
    "arr[1]"
   ]
  },
  {
   "cell_type": "code",
   "execution_count": 111,
   "id": "dd9b33c4",
   "metadata": {},
   "outputs": [
    {
     "data": {
      "text/plain": [
       "array([[ 1,  2],\n",
       "       [ 9,  8],\n",
       "       [15, 16]])"
      ]
     },
     "execution_count": 111,
     "metadata": {},
     "output_type": "execute_result"
    }
   ],
   "source": [
    "arr[:3,:2]    # [Arryas,Elements]"
   ]
  },
  {
   "cell_type": "code",
   "execution_count": 112,
   "id": "8c0663eb",
   "metadata": {},
   "outputs": [
    {
     "data": {
      "text/plain": [
       "array([[ 3,  4],\n",
       "       [10, 11],\n",
       "       [17, 18]])"
      ]
     },
     "execution_count": 112,
     "metadata": {},
     "output_type": "execute_result"
    }
   ],
   "source": [
    "arr[:3,2:4]"
   ]
  },
  {
   "cell_type": "code",
   "execution_count": 113,
   "id": "9ffaac46",
   "metadata": {},
   "outputs": [],
   "source": [
    "#Array Transposition"
   ]
  },
  {
   "cell_type": "code",
   "execution_count": 114,
   "id": "4d38882a",
   "metadata": {},
   "outputs": [],
   "source": [
    "arr=np.arange(24).reshape((4,6))"
   ]
  },
  {
   "cell_type": "code",
   "execution_count": 115,
   "id": "847ee635",
   "metadata": {},
   "outputs": [
    {
     "data": {
      "text/plain": [
       "array([[ 0,  1,  2,  3,  4,  5],\n",
       "       [ 6,  7,  8,  9, 10, 11],\n",
       "       [12, 13, 14, 15, 16, 17],\n",
       "       [18, 19, 20, 21, 22, 23]])"
      ]
     },
     "execution_count": 115,
     "metadata": {},
     "output_type": "execute_result"
    }
   ],
   "source": [
    "arr"
   ]
  },
  {
   "cell_type": "code",
   "execution_count": 116,
   "id": "516c4034",
   "metadata": {},
   "outputs": [
    {
     "data": {
      "text/plain": [
       "array([[ 0,  6, 12, 18],\n",
       "       [ 1,  7, 13, 19],\n",
       "       [ 2,  8, 14, 20],\n",
       "       [ 3,  9, 15, 21],\n",
       "       [ 4, 10, 16, 22],\n",
       "       [ 5, 11, 17, 23]])"
      ]
     },
     "execution_count": 116,
     "metadata": {},
     "output_type": "execute_result"
    }
   ],
   "source": [
    "arr.T"
   ]
  },
  {
   "cell_type": "code",
   "execution_count": 117,
   "id": "1b23b32c",
   "metadata": {},
   "outputs": [],
   "source": [
    "# 3-D Dimention "
   ]
  },
  {
   "cell_type": "code",
   "execution_count": 124,
   "id": "208c19dd",
   "metadata": {},
   "outputs": [],
   "source": [
    "arr=np.array([[[1,2,3],[4,5,6],[7,8,9]]])"
   ]
  },
  {
   "cell_type": "code",
   "execution_count": 125,
   "id": "d44e78fc",
   "metadata": {},
   "outputs": [
    {
     "data": {
      "text/plain": [
       "array([[[1, 2, 3],\n",
       "        [4, 5, 6],\n",
       "        [7, 8, 9]]])"
      ]
     },
     "execution_count": 125,
     "metadata": {},
     "output_type": "execute_result"
    }
   ],
   "source": [
    "arr"
   ]
  },
  {
   "cell_type": "code",
   "execution_count": 126,
   "id": "10accbc7",
   "metadata": {},
   "outputs": [
    {
     "data": {
      "text/plain": [
       "3"
      ]
     },
     "execution_count": 126,
     "metadata": {},
     "output_type": "execute_result"
    }
   ],
   "source": [
    "arr.ndim"
   ]
  },
  {
   "cell_type": "code",
   "execution_count": 129,
   "id": "31715615",
   "metadata": {},
   "outputs": [],
   "source": [
    "ar1=np.random.randint(1,10,(4,4))"
   ]
  },
  {
   "cell_type": "code",
   "execution_count": 130,
   "id": "cb9a207f",
   "metadata": {},
   "outputs": [],
   "source": [
    "ar1=np.random.randint(1,10,(4,4,2))"
   ]
  },
  {
   "cell_type": "code",
   "execution_count": 131,
   "id": "ccc5cc95",
   "metadata": {},
   "outputs": [
    {
     "data": {
      "text/plain": [
       "array([[[9, 3],\n",
       "        [3, 6],\n",
       "        [6, 7],\n",
       "        [5, 1]],\n",
       "\n",
       "       [[2, 7],\n",
       "        [7, 8],\n",
       "        [6, 7],\n",
       "        [9, 8]],\n",
       "\n",
       "       [[7, 2],\n",
       "        [9, 9],\n",
       "        [7, 4],\n",
       "        [5, 7]],\n",
       "\n",
       "       [[6, 1],\n",
       "        [5, 9],\n",
       "        [9, 6],\n",
       "        [2, 3]]])"
      ]
     },
     "execution_count": 131,
     "metadata": {},
     "output_type": "execute_result"
    }
   ],
   "source": [
    "ar1"
   ]
  },
  {
   "cell_type": "code",
   "execution_count": 132,
   "id": "c24b9254",
   "metadata": {},
   "outputs": [
    {
     "data": {
      "text/plain": [
       "3"
      ]
     },
     "execution_count": 132,
     "metadata": {},
     "output_type": "execute_result"
    }
   ],
   "source": [
    "ar1.ndim"
   ]
  },
  {
   "cell_type": "code",
   "execution_count": 133,
   "id": "c4f85074",
   "metadata": {},
   "outputs": [
    {
     "data": {
      "text/plain": [
       "array([[2, 7],\n",
       "       [7, 8],\n",
       "       [6, 7],\n",
       "       [9, 8]])"
      ]
     },
     "execution_count": 133,
     "metadata": {},
     "output_type": "execute_result"
    }
   ],
   "source": [
    "ar1[1]"
   ]
  },
  {
   "cell_type": "code",
   "execution_count": 134,
   "id": "f0caf5c0",
   "metadata": {},
   "outputs": [
    {
     "data": {
      "text/plain": [
       "array([[7, 2],\n",
       "       [9, 9],\n",
       "       [7, 4],\n",
       "       [5, 7]])"
      ]
     },
     "execution_count": 134,
     "metadata": {},
     "output_type": "execute_result"
    }
   ],
   "source": [
    "ar1[2]"
   ]
  },
  {
   "cell_type": "code",
   "execution_count": 135,
   "id": "f0e5bc27",
   "metadata": {},
   "outputs": [
    {
     "data": {
      "text/plain": [
       "array([6, 7])"
      ]
     },
     "execution_count": 135,
     "metadata": {},
     "output_type": "execute_result"
    }
   ],
   "source": [
    "ar1[1,2]"
   ]
  },
  {
   "cell_type": "code",
   "execution_count": 136,
   "id": "19099762",
   "metadata": {},
   "outputs": [
    {
     "data": {
      "text/plain": [
       "array([[[9, 3],\n",
       "        [3, 6],\n",
       "        [6, 7],\n",
       "        [5, 1]],\n",
       "\n",
       "       [[2, 7],\n",
       "        [7, 8],\n",
       "        [6, 7],\n",
       "        [9, 8]],\n",
       "\n",
       "       [[7, 2],\n",
       "        [9, 9],\n",
       "        [7, 4],\n",
       "        [5, 7]],\n",
       "\n",
       "       [[6, 1],\n",
       "        [5, 9],\n",
       "        [9, 6],\n",
       "        [2, 3]]])"
      ]
     },
     "execution_count": 136,
     "metadata": {},
     "output_type": "execute_result"
    }
   ],
   "source": [
    "ar1"
   ]
  },
  {
   "cell_type": "code",
   "execution_count": 137,
   "id": "88500423",
   "metadata": {},
   "outputs": [
    {
     "data": {
      "text/plain": [
       "32"
      ]
     },
     "execution_count": 137,
     "metadata": {},
     "output_type": "execute_result"
    }
   ],
   "source": [
    "ar1.size"
   ]
  },
  {
   "cell_type": "code",
   "execution_count": 138,
   "id": "3ae6f9fc",
   "metadata": {},
   "outputs": [
    {
     "data": {
      "text/plain": [
       "(4, 4, 2)"
      ]
     },
     "execution_count": 138,
     "metadata": {},
     "output_type": "execute_result"
    }
   ],
   "source": [
    "ar1.shape"
   ]
  },
  {
   "cell_type": "code",
   "execution_count": null,
   "id": "172bafd7",
   "metadata": {},
   "outputs": [],
   "source": []
  }
 ],
 "metadata": {
  "kernelspec": {
   "display_name": "Python 3 (ipykernel)",
   "language": "python",
   "name": "python3"
  },
  "language_info": {
   "codemirror_mode": {
    "name": "ipython",
    "version": 3
   },
   "file_extension": ".py",
   "mimetype": "text/x-python",
   "name": "python",
   "nbconvert_exporter": "python",
   "pygments_lexer": "ipython3",
   "version": "3.10.9"
  }
 },
 "nbformat": 4,
 "nbformat_minor": 5
}
