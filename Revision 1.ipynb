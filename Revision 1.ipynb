{
 "cells": [
  {
   "cell_type": "markdown",
   "id": "1103fa73",
   "metadata": {},
   "source": [
    "# Python Operators"
   ]
  },
  {
   "cell_type": "code",
   "execution_count": 9,
   "id": "18e3b220",
   "metadata": {},
   "outputs": [],
   "source": [
    "# Arithmatics Operator  (+,-,*,**,/,%,//)\n",
    "# Assingment Operator  ()\n",
    "# Comparison Operator/ Relational Operator\n",
    "# Logical Operator  (AND, OR, NOT)\n",
    "# Identity Operator  (IS , IS NOT)\n",
    "# Membership Operator (IN, NOT IN)\n",
    "# Bitwise Operator (&, !, ^, ~, <<,>>)"
   ]
  },
  {
   "cell_type": "code",
   "execution_count": 10,
   "id": "d30a03da",
   "metadata": {},
   "outputs": [],
   "source": [
    "# % Module  "
   ]
  },
  {
   "cell_type": "code",
   "execution_count": 11,
   "id": "fd3d4a89",
   "metadata": {},
   "outputs": [
    {
     "data": {
      "text/plain": [
       "1"
      ]
     },
     "execution_count": 11,
     "metadata": {},
     "output_type": "execute_result"
    }
   ],
   "source": [
    "10%3 # It will givw the reminder only"
   ]
  },
  {
   "cell_type": "code",
   "execution_count": 13,
   "id": "6e5aa403",
   "metadata": {},
   "outputs": [],
   "source": [
    "# // Floor Division"
   ]
  },
  {
   "cell_type": "code",
   "execution_count": 16,
   "id": "dc9e2348",
   "metadata": {},
   "outputs": [
    {
     "data": {
      "text/plain": [
       "5.0"
      ]
     },
     "execution_count": 16,
     "metadata": {},
     "output_type": "execute_result"
    }
   ],
   "source": [
    "11.33//2  # It will give only Integer"
   ]
  },
  {
   "cell_type": "code",
   "execution_count": 5,
   "id": "5de1aef8",
   "metadata": {},
   "outputs": [],
   "source": [
    "x=\"My name is Mohammad Farid\""
   ]
  },
  {
   "cell_type": "code",
   "execution_count": 17,
   "id": "9a558f3e",
   "metadata": {},
   "outputs": [
    {
     "data": {
      "text/plain": [
       "True"
      ]
     },
     "execution_count": 17,
     "metadata": {},
     "output_type": "execute_result"
    }
   ],
   "source": [
    "\"name\" in x"
   ]
  },
  {
   "cell_type": "markdown",
   "id": "9933c387",
   "metadata": {},
   "source": [
    "# Conditional Statement"
   ]
  },
  {
   "cell_type": "code",
   "execution_count": 18,
   "id": "e651cb5f",
   "metadata": {},
   "outputs": [],
   "source": [
    "# IF ELSE"
   ]
  },
  {
   "cell_type": "code",
   "execution_count": 19,
   "id": "65aed83b",
   "metadata": {},
   "outputs": [],
   "source": [
    "# Check the given number is Even or Odd"
   ]
  },
  {
   "cell_type": "code",
   "execution_count": 33,
   "id": "c610549b",
   "metadata": {},
   "outputs": [
    {
     "name": "stdout",
     "output_type": "stream",
     "text": [
      "3\n",
      "Odd\n"
     ]
    }
   ],
   "source": [
    "n=int(input())\n",
    "if n%2==0:\n",
    "    print(\"Even\")\n",
    "else:\n",
    "    print(\"Odd\")"
   ]
  },
  {
   "cell_type": "code",
   "execution_count": 34,
   "id": "47c21996",
   "metadata": {},
   "outputs": [],
   "source": [
    "# Check the two given numbers are greater than 10 or whih number is greater than 10 and which is less than 10"
   ]
  },
  {
   "cell_type": "code",
   "execution_count": 37,
   "id": "9940eb1b",
   "metadata": {},
   "outputs": [
    {
     "name": "stdout",
     "output_type": "stream",
     "text": [
      "12\n",
      "2\n",
      "a is greater than 10\n"
     ]
    }
   ],
   "source": [
    "a=int(input())\n",
    "b=int(input())\n",
    "\n",
    "if a>10 and b>10:\n",
    "    print(\"a and b both are greater than 10\")\n",
    "elif a>10 and b<10:\n",
    "    print(\"a is greater than 10\")\n",
    "elif a<10 and b>10:\n",
    "    print(\"b is greater than 10\")\n",
    "else:\n",
    "    print(\"Both are less than 10\")"
   ]
  },
  {
   "cell_type": "code",
   "execution_count": 38,
   "id": "fe9f1c04",
   "metadata": {},
   "outputs": [],
   "source": [
    "# There are three numbers, find which is the large number"
   ]
  },
  {
   "cell_type": "code",
   "execution_count": null,
   "id": "4fd62153",
   "metadata": {},
   "outputs": [],
   "source": []
  },
  {
   "cell_type": "code",
   "execution_count": 40,
   "id": "dd6cd134",
   "metadata": {},
   "outputs": [],
   "source": [
    "# Nested IF"
   ]
  },
  {
   "cell_type": "code",
   "execution_count": 41,
   "id": "72bb245f",
   "metadata": {},
   "outputs": [],
   "source": [
    "#Check the Number Odd, Even or Zero"
   ]
  },
  {
   "cell_type": "code",
   "execution_count": 48,
   "id": "35a8d821",
   "metadata": {},
   "outputs": [
    {
     "name": "stdout",
     "output_type": "stream",
     "text": [
      "0\n",
      "Even\n",
      "Zero\n"
     ]
    }
   ],
   "source": [
    "n=int(input())\n",
    "if n%2==0:\n",
    "    print(\"Even\")\n",
    "    if n==0:\n",
    "        print(\"Zero\")\n",
    "else:\n",
    "    print(\"Odd\")"
   ]
  },
  {
   "cell_type": "markdown",
   "id": "577bd711",
   "metadata": {},
   "source": [
    "# While Loop"
   ]
  },
  {
   "cell_type": "code",
   "execution_count": 49,
   "id": "965dc4fd",
   "metadata": {},
   "outputs": [],
   "source": [
    "# Sum of n Numbers"
   ]
  },
  {
   "cell_type": "code",
   "execution_count": 52,
   "id": "4141fd4c",
   "metadata": {},
   "outputs": [
    {
     "name": "stdout",
     "output_type": "stream",
     "text": [
      "55\n"
     ]
    }
   ],
   "source": [
    "n=10\n",
    "sum=0\n",
    "while n>0:\n",
    "    sum=sum+n\n",
    "    n=n-1\n",
    "print(sum)    "
   ]
  },
  {
   "cell_type": "code",
   "execution_count": 53,
   "id": "03d2666b",
   "metadata": {},
   "outputs": [],
   "source": [
    "# Multiple of n numbers"
   ]
  },
  {
   "cell_type": "code",
   "execution_count": 56,
   "id": "14e879d8",
   "metadata": {},
   "outputs": [
    {
     "name": "stdout",
     "output_type": "stream",
     "text": [
      "6\n"
     ]
    }
   ],
   "source": [
    "n=3\n",
    "sum=1\n",
    "while n>0:\n",
    "    sum=sum*n\n",
    "    n=n-1\n",
    "print(sum) "
   ]
  },
  {
   "cell_type": "code",
   "execution_count": 57,
   "id": "8758f156",
   "metadata": {},
   "outputs": [],
   "source": [
    "# Sum of Even Numbers"
   ]
  },
  {
   "cell_type": "code",
   "execution_count": null,
   "id": "160b2b90",
   "metadata": {},
   "outputs": [],
   "source": [
    "n=3\n",
    "sum=0\n",
    "while n>0:\n",
    "    if n%2==0:\n",
    "        sum=sum+n\n",
    "        n=n-1\n",
    "print(sum)"
   ]
  },
  {
   "cell_type": "code",
   "execution_count": null,
   "id": "fef71723",
   "metadata": {},
   "outputs": [],
   "source": []
  },
  {
   "cell_type": "markdown",
   "id": "0b513c8a",
   "metadata": {},
   "source": [
    "# Loops"
   ]
  },
  {
   "cell_type": "code",
   "execution_count": null,
   "id": "874c8f51",
   "metadata": {},
   "outputs": [],
   "source": [
    "# Range and Method\n",
    "# Loop is to do something repeatidly"
   ]
  },
  {
   "cell_type": "code",
   "execution_count": 2,
   "id": "6909dc74",
   "metadata": {},
   "outputs": [
    {
     "name": "stdout",
     "output_type": "stream",
     "text": [
      "a\n",
      "b\n",
      "c\n",
      "d\n"
     ]
    }
   ],
   "source": [
    "x=\"abcd\"\n",
    "for i in x:\n",
    "    print(i)"
   ]
  },
  {
   "cell_type": "code",
   "execution_count": 3,
   "id": "3771ca74",
   "metadata": {},
   "outputs": [
    {
     "data": {
      "text/plain": [
       "'b'"
      ]
     },
     "execution_count": 3,
     "metadata": {},
     "output_type": "execute_result"
    }
   ],
   "source": [
    "x[1]"
   ]
  },
  {
   "cell_type": "code",
   "execution_count": 5,
   "id": "28c50e49",
   "metadata": {},
   "outputs": [
    {
     "data": {
      "text/plain": [
       "'d'"
      ]
     },
     "execution_count": 5,
     "metadata": {},
     "output_type": "execute_result"
    }
   ],
   "source": [
    "x[3]"
   ]
  },
  {
   "cell_type": "code",
   "execution_count": 7,
   "id": "e57b003d",
   "metadata": {},
   "outputs": [
    {
     "data": {
      "text/plain": [
       "'bc'"
      ]
     },
     "execution_count": 7,
     "metadata": {},
     "output_type": "execute_result"
    }
   ],
   "source": [
    "x[1:3]"
   ]
  },
  {
   "cell_type": "code",
   "execution_count": 15,
   "id": "287cb167",
   "metadata": {},
   "outputs": [
    {
     "name": "stdout",
     "output_type": "stream",
     "text": [
      "4\n",
      "1\n",
      "2\n",
      "3\n",
      "4\n"
     ]
    }
   ],
   "source": [
    "n=int(input())\n",
    "for i in range(1,n+1):\n",
    "    print(i)"
   ]
  },
  {
   "cell_type": "code",
   "execution_count": 16,
   "id": "2b4a2d90",
   "metadata": {},
   "outputs": [
    {
     "name": "stdout",
     "output_type": "stream",
     "text": [
      "4\n",
      "1 2 3 4 "
     ]
    }
   ],
   "source": [
    "n=int(input())\n",
    "for i in range(1,n+1):\n",
    "    print(i,end=\" \")"
   ]
  },
  {
   "cell_type": "code",
   "execution_count": 17,
   "id": "cb4a2d71",
   "metadata": {},
   "outputs": [
    {
     "data": {
      "text/plain": [
       "4"
      ]
     },
     "execution_count": 17,
     "metadata": {},
     "output_type": "execute_result"
    }
   ],
   "source": [
    "len(range(1,n+1))"
   ]
  },
  {
   "cell_type": "code",
   "execution_count": null,
   "id": "8c5c7a3f",
   "metadata": {},
   "outputs": [],
   "source": []
  },
  {
   "cell_type": "code",
   "execution_count": 27,
   "id": "eebb0143",
   "metadata": {},
   "outputs": [
    {
     "data": {
      "text/plain": [
       "4"
      ]
     },
     "execution_count": 27,
     "metadata": {},
     "output_type": "execute_result"
    }
   ],
   "source": [
    "len(range(1,n+1))"
   ]
  },
  {
   "cell_type": "code",
   "execution_count": 34,
   "id": "52689fd1",
   "metadata": {},
   "outputs": [],
   "source": [
    "# Print 3 table"
   ]
  },
  {
   "cell_type": "code",
   "execution_count": 38,
   "id": "2f7e9037",
   "metadata": {},
   "outputs": [
    {
     "name": "stdout",
     "output_type": "stream",
     "text": [
      "Entered Value33\n",
      "3\n",
      "6\n",
      "9\n",
      "12\n",
      "15\n",
      "18\n",
      "21\n",
      "24\n",
      "27\n",
      "30\n"
     ]
    }
   ],
   "source": [
    "n=int(input(\"Entered Value\"))\n",
    "for i in range(1,n):\n",
    "    if i%3==0:\n",
    "        print(i)"
   ]
  },
  {
   "cell_type": "code",
   "execution_count": 39,
   "id": "ebca9aaa",
   "metadata": {},
   "outputs": [],
   "source": [
    "# Print 3 table and the starting and end value"
   ]
  },
  {
   "cell_type": "code",
   "execution_count": 40,
   "id": "ddc3e956",
   "metadata": {},
   "outputs": [
    {
     "name": "stdout",
     "output_type": "stream",
     "text": [
      "Enter first Value1\n",
      "Enter Second Value44\n",
      "3\n",
      "6\n",
      "9\n",
      "12\n",
      "15\n",
      "18\n",
      "21\n",
      "24\n",
      "27\n",
      "30\n",
      "33\n",
      "36\n",
      "39\n",
      "42\n"
     ]
    }
   ],
   "source": [
    "a=int(input(\"Enter first Value\"))\n",
    "b=int(input(\"Enter Second Value\"))\n",
    "\n",
    "for i in range(a,b):\n",
    "    if i%3==0:\n",
    "        print(i)\n",
    "    "
   ]
  },
  {
   "cell_type": "code",
   "execution_count": 41,
   "id": "81d3969f",
   "metadata": {},
   "outputs": [],
   "source": [
    "# Print the prime number only"
   ]
  },
  {
   "cell_type": "code",
   "execution_count": 47,
   "id": "bb86bb34",
   "metadata": {},
   "outputs": [
    {
     "name": "stdout",
     "output_type": "stream",
     "text": [
      "12\n"
     ]
    }
   ],
   "source": [
    "n=int(input())\n",
    "\n",
    "for i in range(2,n,1):\n",
    "    if n%i==0:\n",
    "        break\n",
    "else:\n",
    "    print(\"Prime Number\")"
   ]
  },
  {
   "cell_type": "code",
   "execution_count": 48,
   "id": "af3f5f3c",
   "metadata": {},
   "outputs": [],
   "source": [
    "# The Break statement"
   ]
  },
  {
   "cell_type": "code",
   "execution_count": 56,
   "id": "ea294662",
   "metadata": {},
   "outputs": [
    {
     "name": "stdout",
     "output_type": "stream",
     "text": [
      "5\n",
      "1\n",
      "2\n",
      "3\n",
      "4\n",
      "End\n"
     ]
    }
   ],
   "source": [
    "n=int(input())\n",
    "\n",
    "for i in range(1,n):\n",
    "    if i==5:\n",
    "        break # It will break at 5 and will not print till 4\n",
    "    print(i)\n",
    "else:\n",
    "    print(\"End\")"
   ]
  },
  {
   "cell_type": "code",
   "execution_count": 57,
   "id": "2bb1670b",
   "metadata": {},
   "outputs": [],
   "source": [
    "# The continue Statement"
   ]
  },
  {
   "cell_type": "code",
   "execution_count": 1,
   "id": "ad3084ea",
   "metadata": {},
   "outputs": [
    {
     "name": "stdout",
     "output_type": "stream",
     "text": [
      "10\n",
      "1\n",
      "2\n",
      "3\n",
      "4\n",
      "6\n",
      "7\n",
      "8\n",
      "9\n",
      "End\n"
     ]
    }
   ],
   "source": [
    "n=int(input())\n",
    "\n",
    "for i in range(1,n):\n",
    "    if i==5:\n",
    "        continue # It will not print 5 and conitue\n",
    "    print(i)\n",
    "else:\n",
    "    print(\"End\")"
   ]
  },
  {
   "cell_type": "code",
   "execution_count": 2,
   "id": "897f9ef0",
   "metadata": {},
   "outputs": [],
   "source": [
    "# Standar form of Continue"
   ]
  },
  {
   "cell_type": "code",
   "execution_count": 5,
   "id": "cdf6c80b",
   "metadata": {},
   "outputs": [
    {
     "name": "stdout",
     "output_type": "stream",
     "text": [
      "apple\n",
      "Cherry\n"
     ]
    }
   ],
   "source": [
    "x=[\"apple\",\"Banana\",\"Cherry\"]\n",
    "for i in x:\n",
    "    if i==\"Banana\":\n",
    "        continue\n",
    "    print(i)"
   ]
  },
  {
   "cell_type": "code",
   "execution_count": 6,
   "id": "f90f7f27",
   "metadata": {},
   "outputs": [],
   "source": [
    "# The Pass Statement"
   ]
  },
  {
   "cell_type": "code",
   "execution_count": 7,
   "id": "d8df8f5b",
   "metadata": {},
   "outputs": [
    {
     "ename": "SyntaxError",
     "evalue": "incomplete input (3712687365.py, line 1)",
     "output_type": "error",
     "traceback": [
      "\u001b[1;36m  Cell \u001b[1;32mIn[7], line 1\u001b[1;36m\u001b[0m\n\u001b[1;33m    def my_func():\u001b[0m\n\u001b[1;37m                  ^\u001b[0m\n\u001b[1;31mSyntaxError\u001b[0m\u001b[1;31m:\u001b[0m incomplete input\n"
     ]
    }
   ],
   "source": [
    "def my_func():"
   ]
  },
  {
   "cell_type": "code",
   "execution_count": 8,
   "id": "91bf47d5",
   "metadata": {},
   "outputs": [],
   "source": [
    "def my_func():\n",
    "    pass"
   ]
  },
  {
   "cell_type": "code",
   "execution_count": 10,
   "id": "44792193",
   "metadata": {},
   "outputs": [],
   "source": [
    "# immutebale\n",
    "# cant change, utler and modify"
   ]
  },
  {
   "cell_type": "code",
   "execution_count": 12,
   "id": "e59057e5",
   "metadata": {},
   "outputs": [
    {
     "name": "stdout",
     "output_type": "stream",
     "text": [
      "['False', 'None', 'True', 'and', 'as', 'assert', 'async', 'await', 'break', 'class', 'continue', 'def', 'del', 'elif', 'else', 'except', 'finally', 'for', 'from', 'global', 'if', 'import', 'in', 'is', 'lambda', 'nonlocal', 'not', 'or', 'pass', 'raise', 'return', 'try', 'while', 'with', 'yield']\n"
     ]
    }
   ],
   "source": [
    "import keyword\n",
    "print(keyword.kwlist)"
   ]
  },
  {
   "cell_type": "code",
   "execution_count": 20,
   "id": "3952f690",
   "metadata": {},
   "outputs": [],
   "source": [
    "x=\"My nAme iS faRid\""
   ]
  },
  {
   "cell_type": "code",
   "execution_count": 21,
   "id": "c733e170",
   "metadata": {},
   "outputs": [
    {
     "data": {
      "text/plain": [
       "'My nAme iS faRid'"
      ]
     },
     "execution_count": 21,
     "metadata": {},
     "output_type": "execute_result"
    }
   ],
   "source": [
    "x"
   ]
  },
  {
   "cell_type": "code",
   "execution_count": 22,
   "id": "a7d97b68",
   "metadata": {},
   "outputs": [
    {
     "data": {
      "text/plain": [
       "'my name is farid'"
      ]
     },
     "execution_count": 22,
     "metadata": {},
     "output_type": "execute_result"
    }
   ],
   "source": [
    "x.lower()"
   ]
  },
  {
   "cell_type": "code",
   "execution_count": 23,
   "id": "fb6739c3",
   "metadata": {},
   "outputs": [
    {
     "data": {
      "text/plain": [
       "'MY NAME IS FARID'"
      ]
     },
     "execution_count": 23,
     "metadata": {},
     "output_type": "execute_result"
    }
   ],
   "source": [
    "x.upper()"
   ]
  },
  {
   "cell_type": "code",
   "execution_count": 24,
   "id": "39f5663f",
   "metadata": {},
   "outputs": [
    {
     "data": {
      "text/plain": [
       "'My name is farid'"
      ]
     },
     "execution_count": 24,
     "metadata": {},
     "output_type": "execute_result"
    }
   ],
   "source": [
    "x.capitalize()"
   ]
  },
  {
   "cell_type": "code",
   "execution_count": 25,
   "id": "f32c9394",
   "metadata": {},
   "outputs": [],
   "source": [
    "x=\"Farid123\""
   ]
  },
  {
   "cell_type": "code",
   "execution_count": 26,
   "id": "b2e20159",
   "metadata": {},
   "outputs": [
    {
     "data": {
      "text/plain": [
       "True"
      ]
     },
     "execution_count": 26,
     "metadata": {},
     "output_type": "execute_result"
    }
   ],
   "source": [
    "x.isalnum()"
   ]
  },
  {
   "cell_type": "code",
   "execution_count": 27,
   "id": "e518ff47",
   "metadata": {},
   "outputs": [
    {
     "data": {
      "text/plain": [
       "False"
      ]
     },
     "execution_count": 27,
     "metadata": {},
     "output_type": "execute_result"
    }
   ],
   "source": [
    "x.isalpha()"
   ]
  },
  {
   "cell_type": "code",
   "execution_count": 28,
   "id": "4d7bb3b8",
   "metadata": {},
   "outputs": [],
   "source": [
    "x=\"Farid_Ansari\""
   ]
  },
  {
   "cell_type": "code",
   "execution_count": 30,
   "id": "c7257331",
   "metadata": {},
   "outputs": [
    {
     "data": {
      "text/plain": [
       "False"
      ]
     },
     "execution_count": 30,
     "metadata": {},
     "output_type": "execute_result"
    }
   ],
   "source": [
    "x.isalpha()"
   ]
  },
  {
   "cell_type": "code",
   "execution_count": 31,
   "id": "da1eaac0",
   "metadata": {},
   "outputs": [],
   "source": [
    "x=\"FaridAnsari\""
   ]
  },
  {
   "cell_type": "code",
   "execution_count": 32,
   "id": "3f6faaad",
   "metadata": {},
   "outputs": [
    {
     "data": {
      "text/plain": [
       "True"
      ]
     },
     "execution_count": 32,
     "metadata": {},
     "output_type": "execute_result"
    }
   ],
   "source": [
    "x.isalpha()"
   ]
  },
  {
   "cell_type": "markdown",
   "id": "87b3b3ac",
   "metadata": {},
   "source": [
    "# LIST"
   ]
  },
  {
   "cell_type": "code",
   "execution_count": 33,
   "id": "2ebcfd3e",
   "metadata": {},
   "outputs": [],
   "source": [
    "# Print the list value with its index value"
   ]
  },
  {
   "cell_type": "code",
   "execution_count": 39,
   "id": "54b7e54f",
   "metadata": {},
   "outputs": [
    {
     "name": "stdout",
     "output_type": "stream",
     "text": [
      "0 index , Value 1\n",
      "1 index , Value 2\n",
      "2 index , Value 3\n",
      "3 index , Value 4\n",
      "4 index , Value 5\n",
      "5 index , Value 6\n",
      "6 index , Value 7\n",
      "7 index , Value 8\n",
      "8 index , Value 9\n"
     ]
    }
   ],
   "source": [
    "li=[1,2,3,4,5,6,7,8,9]\n",
    "for i in range(len(li)):\n",
    "    print(i,\"index\",\",\",\"Value\",li[i])"
   ]
  },
  {
   "cell_type": "code",
   "execution_count": 46,
   "id": "ef29fc1d",
   "metadata": {},
   "outputs": [],
   "source": [
    "# Print string alphabet along with its index value"
   ]
  },
  {
   "cell_type": "code",
   "execution_count": 52,
   "id": "5f0d913c",
   "metadata": {},
   "outputs": [
    {
     "name": "stdout",
     "output_type": "stream",
     "text": [
      "0 M\n",
      "1 o\n",
      "2 h\n",
      "3 a\n",
      "4 m\n",
      "5 m\n",
      "6 a\n",
      "7 d\n",
      "8  \n",
      "9 F\n",
      "10 a\n",
      "11 r\n",
      "12 i\n",
      "13 d\n"
     ]
    }
   ],
   "source": [
    "x=\"Mohammad Farid\"\n",
    "for i in range(len(x)):\n",
    "    print(i,x[i])"
   ]
  },
  {
   "cell_type": "code",
   "execution_count": 54,
   "id": "e28ac5db",
   "metadata": {},
   "outputs": [
    {
     "name": "stdout",
     "output_type": "stream",
     "text": [
      "13 d\n",
      "12 i\n",
      "11 r\n",
      "10 a\n",
      "9 F\n",
      "8  \n",
      "7 d\n",
      "6 a\n",
      "5 m\n",
      "4 m\n",
      "3 a\n",
      "2 h\n",
      "1 o\n",
      "0 M\n"
     ]
    }
   ],
   "source": [
    "# Reverse it along with the index\n",
    "x=\"Mohammad Farid\"\n",
    "for i in range(len(x)-1,-1,-1):\n",
    "    print(i,x[i])"
   ]
  },
  {
   "cell_type": "code",
   "execution_count": 56,
   "id": "23ccad94",
   "metadata": {},
   "outputs": [],
   "source": [
    "# Create the list from the list that contains only the integer"
   ]
  },
  {
   "cell_type": "code",
   "execution_count": 58,
   "id": "f195cf9b",
   "metadata": {},
   "outputs": [],
   "source": [
    "li=[\"fad\",\"Riya\",123,33,12,\"Ansari\",\"Bareilly\",12,19]\n",
    "Li=[]\n",
    "for i in li:\n",
    "    if type(i)==int:\n",
    "        Li.append(i)\n",
    "\n",
    "        "
   ]
  },
  {
   "cell_type": "code",
   "execution_count": 59,
   "id": "803e9ad7",
   "metadata": {},
   "outputs": [
    {
     "data": {
      "text/plain": [
       "[123, 33, 12, 12, 19]"
      ]
     },
     "execution_count": 59,
     "metadata": {},
     "output_type": "execute_result"
    }
   ],
   "source": [
    "Li"
   ]
  },
  {
   "cell_type": "code",
   "execution_count": 61,
   "id": "77329be6",
   "metadata": {},
   "outputs": [
    {
     "data": {
      "text/plain": [
       "\"zip() is a built-in Python function that takes two or more iterables (lists, tuples, etc.) and returns an iterator of tuples where the first item in each passed iterable is paired together, and then the second item in each iterable is paired together, and so on.\\n\\nHere's an example code to demonstrate how zip() works in Python:\""
      ]
     },
     "execution_count": 61,
     "metadata": {},
     "output_type": "execute_result"
    }
   ],
   "source": [
    "\"\"\"zip() is a built-in Python function that takes two or more iterables (lists, tuples, etc.) and returns an iterator of tuples where the first item in each passed iterable is paired together, and then the second item in each iterable is paired together, and so on.\n",
    "\n",
    "Here's an example code to demonstrate how zip() works in Python:\"\"\""
   ]
  },
  {
   "cell_type": "code",
   "execution_count": 60,
   "id": "6983071f",
   "metadata": {},
   "outputs": [
    {
     "name": "stdout",
     "output_type": "stream",
     "text": [
      "(1, 'a', 'x')\n",
      "(2, 'b', 'y')\n",
      "(3, 'c', 'z')\n"
     ]
    }
   ],
   "source": [
    "list1 = [1, 2, 3]\n",
    "list2 = ['a', 'b', 'c']\n",
    "list3 = ['x', 'y', 'z']\n",
    "\n",
    "# Using zip() function to pair the lists together\n",
    "result = zip(list1, list2, list3)\n",
    "\n",
    "# Iterating through the result\n",
    "for item in result:\n",
    "    print(item)"
   ]
  },
  {
   "cell_type": "code",
   "execution_count": 70,
   "id": "c015e09d",
   "metadata": {},
   "outputs": [
    {
     "name": "stdout",
     "output_type": "stream",
     "text": [
      "<zip object at 0x00000207A94BA880>\n"
     ]
    }
   ],
   "source": [
    "list1 = [1, 2, 3]\n",
    "list2 = ['a', 'b', 'c']\n",
    "list3 = ['x', 'y', 'z']\n",
    "\n",
    "# Using zip() function to pair the lists together\n",
    "result = zip(list1, list2, list3)\n",
    "\n",
    "Li=[]\n",
    "print(result)\n",
    "for i in result:\n",
    "    for j in i:\n",
    "        Li.append(j)\n",
    "    "
   ]
  },
  {
   "cell_type": "code",
   "execution_count": 71,
   "id": "03e55dc6",
   "metadata": {},
   "outputs": [
    {
     "data": {
      "text/plain": [
       "[1, 'a', 'x', 2, 'b', 'y', 3, 'c', 'z']"
      ]
     },
     "execution_count": 71,
     "metadata": {},
     "output_type": "execute_result"
    }
   ],
   "source": [
    "Li"
   ]
  },
  {
   "cell_type": "markdown",
   "id": "d2480ae1",
   "metadata": {},
   "source": [
    "# Dictionary"
   ]
  },
  {
   "cell_type": "code",
   "execution_count": 72,
   "id": "b6f1a985",
   "metadata": {},
   "outputs": [],
   "source": [
    "d={\"key1\":\"Fad\",\"Contact\":\"fad8392\",\"Mobile\":123}"
   ]
  },
  {
   "cell_type": "code",
   "execution_count": 73,
   "id": "d198214c",
   "metadata": {},
   "outputs": [
    {
     "data": {
      "text/plain": [
       "dict_items([('key1', 'Fad'), ('Contact', 'fad8392'), ('Mobile', 123)])"
      ]
     },
     "execution_count": 73,
     "metadata": {},
     "output_type": "execute_result"
    }
   ],
   "source": [
    "d.items() # It will print the key value pair"
   ]
  },
  {
   "cell_type": "code",
   "execution_count": 74,
   "id": "f4c95b53",
   "metadata": {},
   "outputs": [
    {
     "name": "stdout",
     "output_type": "stream",
     "text": [
      "('key1', 'Fad')\n",
      "('Contact', 'fad8392')\n",
      "('Mobile', 123)\n"
     ]
    }
   ],
   "source": [
    "for i in d.items():\n",
    "    print(i)"
   ]
  },
  {
   "cell_type": "code",
   "execution_count": 75,
   "id": "fc817723",
   "metadata": {},
   "outputs": [
    {
     "data": {
      "text/plain": [
       "tuple"
      ]
     },
     "execution_count": 75,
     "metadata": {},
     "output_type": "execute_result"
    }
   ],
   "source": [
    "type(i)"
   ]
  },
  {
   "cell_type": "code",
   "execution_count": 76,
   "id": "db9c916a",
   "metadata": {},
   "outputs": [
    {
     "data": {
      "text/plain": [
       "dict_items"
      ]
     },
     "execution_count": 76,
     "metadata": {},
     "output_type": "execute_result"
    }
   ],
   "source": [
    "type(d.items())"
   ]
  },
  {
   "cell_type": "code",
   "execution_count": 77,
   "id": "516d24d0",
   "metadata": {},
   "outputs": [
    {
     "data": {
      "text/plain": [
       "dict"
      ]
     },
     "execution_count": 77,
     "metadata": {},
     "output_type": "execute_result"
    }
   ],
   "source": [
    "type(d)"
   ]
  },
  {
   "cell_type": "code",
   "execution_count": 78,
   "id": "ad5523e6",
   "metadata": {},
   "outputs": [],
   "source": [
    "# To check how many times the Alphabet occured"
   ]
  },
  {
   "cell_type": "code",
   "execution_count": 113,
   "id": "b5cfd134",
   "metadata": {},
   "outputs": [
    {
     "data": {
      "text/plain": [
       "{'a', 'b', 'c', 'd', 'e', 'f'}"
      ]
     },
     "execution_count": 113,
     "metadata": {},
     "output_type": "execute_result"
    }
   ],
   "source": [
    "x=\"aabcbbbccccccddddeeeeeffffffff\"\n",
    "set(x) # Convert into set"
   ]
  },
  {
   "cell_type": "code",
   "execution_count": 114,
   "id": "888d0c76",
   "metadata": {},
   "outputs": [
    {
     "data": {
      "text/plain": [
       "2"
      ]
     },
     "execution_count": 114,
     "metadata": {},
     "output_type": "execute_result"
    }
   ],
   "source": [
    "x.count('a')"
   ]
  },
  {
   "cell_type": "code",
   "execution_count": 115,
   "id": "2599ab12",
   "metadata": {},
   "outputs": [
    {
     "name": "stdout",
     "output_type": "stream",
     "text": [
      "b : 4\n",
      "d : 4\n",
      "a : 2\n",
      "e : 5\n",
      "f : 8\n",
      "c : 7\n"
     ]
    }
   ],
   "source": [
    "for i in set(x):\n",
    "    print(i,\":\",x.count(i))"
   ]
  },
  {
   "cell_type": "code",
   "execution_count": null,
   "id": "c1a5a00a",
   "metadata": {},
   "outputs": [],
   "source": [
    "61,67,79,56,75,76"
   ]
  },
  {
   "cell_type": "markdown",
   "id": "9073d55b",
   "metadata": {},
   "source": [
    "# Basic Python"
   ]
  },
  {
   "cell_type": "code",
   "execution_count": 1,
   "id": "6b0cac35",
   "metadata": {},
   "outputs": [
    {
     "data": {
      "text/plain": [
       "True"
      ]
     },
     "execution_count": 1,
     "metadata": {},
     "output_type": "execute_result"
    }
   ],
   "source": [
    "True"
   ]
  },
  {
   "cell_type": "code",
   "execution_count": 2,
   "id": "f30c6667",
   "metadata": {},
   "outputs": [
    {
     "data": {
      "text/plain": [
       "2"
      ]
     },
     "execution_count": 2,
     "metadata": {},
     "output_type": "execute_result"
    }
   ],
   "source": [
    "True+True"
   ]
  },
  {
   "cell_type": "code",
   "execution_count": 3,
   "id": "f5e43f26",
   "metadata": {},
   "outputs": [
    {
     "data": {
      "text/plain": [
       "False"
      ]
     },
     "execution_count": 3,
     "metadata": {},
     "output_type": "execute_result"
    }
   ],
   "source": [
    "False"
   ]
  },
  {
   "cell_type": "code",
   "execution_count": 4,
   "id": "9eeda2cc",
   "metadata": {},
   "outputs": [
    {
     "data": {
      "text/plain": [
       "0"
      ]
     },
     "execution_count": 4,
     "metadata": {},
     "output_type": "execute_result"
    }
   ],
   "source": [
    "False+False"
   ]
  },
  {
   "cell_type": "code",
   "execution_count": 8,
   "id": "acce1755",
   "metadata": {},
   "outputs": [
    {
     "data": {
      "text/plain": [
       "(4+6j)"
      ]
     },
     "execution_count": 8,
     "metadata": {},
     "output_type": "execute_result"
    }
   ],
   "source": [
    "#Complex Number\n",
    "\n",
    "a=2+3j\n",
    "b=2+3j\n",
    "a+b"
   ]
  },
  {
   "cell_type": "code",
   "execution_count": 10,
   "id": "353a75b1",
   "metadata": {},
   "outputs": [],
   "source": [
    "# To print separately the Real and imaginary Part"
   ]
  },
  {
   "cell_type": "code",
   "execution_count": 11,
   "id": "64347703",
   "metadata": {},
   "outputs": [
    {
     "data": {
      "text/plain": [
       "2.0"
      ]
     },
     "execution_count": 11,
     "metadata": {},
     "output_type": "execute_result"
    }
   ],
   "source": [
    "a.real"
   ]
  },
  {
   "cell_type": "code",
   "execution_count": 13,
   "id": "2aace6c3",
   "metadata": {},
   "outputs": [
    {
     "data": {
      "text/plain": [
       "3.0"
      ]
     },
     "execution_count": 13,
     "metadata": {},
     "output_type": "execute_result"
    }
   ],
   "source": [
    "a.imag"
   ]
  },
  {
   "cell_type": "code",
   "execution_count": 18,
   "id": "9379f6c5",
   "metadata": {},
   "outputs": [
    {
     "data": {
      "text/plain": [
       "3"
      ]
     },
     "execution_count": 18,
     "metadata": {},
     "output_type": "execute_result"
    }
   ],
   "source": [
    "x=\"Mohammad Farid\"\n",
    "x.count('a') # Count how many times the 'a' appeared"
   ]
  },
  {
   "cell_type": "code",
   "execution_count": 21,
   "id": "e144c06f",
   "metadata": {},
   "outputs": [
    {
     "data": {
      "text/plain": [
       "'Mohemmed Ferid'"
      ]
     },
     "execution_count": 21,
     "metadata": {},
     "output_type": "execute_result"
    }
   ],
   "source": [
    "x.replace('a','e') # Replace the 'a' by 'e'"
   ]
  },
  {
   "cell_type": "code",
   "execution_count": 20,
   "id": "398907d6",
   "metadata": {},
   "outputs": [
    {
     "data": {
      "text/plain": [
       "False"
      ]
     },
     "execution_count": 20,
     "metadata": {},
     "output_type": "execute_result"
    }
   ],
   "source": [
    "x.isalpha() # False beacase there is a space "
   ]
  },
  {
   "cell_type": "code",
   "execution_count": 22,
   "id": "720b85f9",
   "metadata": {},
   "outputs": [
    {
     "data": {
      "text/plain": [
       "False"
      ]
     },
     "execution_count": 22,
     "metadata": {},
     "output_type": "execute_result"
    }
   ],
   "source": [
    "x.isalnum()"
   ]
  },
  {
   "cell_type": "markdown",
   "id": "87858b1b",
   "metadata": {},
   "source": [
    "# Python String"
   ]
  },
  {
   "cell_type": "code",
   "execution_count": 24,
   "id": "4055c585",
   "metadata": {},
   "outputs": [],
   "source": [
    "x=\"Mohammad Farid\""
   ]
  },
  {
   "cell_type": "code",
   "execution_count": 25,
   "id": "489bf2a2",
   "metadata": {},
   "outputs": [
    {
     "data": {
      "text/plain": [
       "str"
      ]
     },
     "execution_count": 25,
     "metadata": {},
     "output_type": "execute_result"
    }
   ],
   "source": [
    "type(x)"
   ]
  },
  {
   "cell_type": "code",
   "execution_count": 26,
   "id": "ca27c5d4",
   "metadata": {},
   "outputs": [
    {
     "data": {
      "text/plain": [
       "'o'"
      ]
     },
     "execution_count": 26,
     "metadata": {},
     "output_type": "execute_result"
    }
   ],
   "source": [
    "x[1]"
   ]
  },
  {
   "cell_type": "code",
   "execution_count": 27,
   "id": "eebd22d0",
   "metadata": {},
   "outputs": [
    {
     "data": {
      "text/plain": [
       "'a'"
      ]
     },
     "execution_count": 27,
     "metadata": {},
     "output_type": "execute_result"
    }
   ],
   "source": [
    "x[3]"
   ]
  },
  {
   "cell_type": "code",
   "execution_count": 28,
   "id": "675b29f3",
   "metadata": {},
   "outputs": [
    {
     "data": {
      "text/plain": [
       "'oh'"
      ]
     },
     "execution_count": 28,
     "metadata": {},
     "output_type": "execute_result"
    }
   ],
   "source": [
    "x[1:3]"
   ]
  },
  {
   "cell_type": "code",
   "execution_count": 29,
   "id": "5cd09b05",
   "metadata": {},
   "outputs": [
    {
     "data": {
      "text/plain": [
       "'ohamm'"
      ]
     },
     "execution_count": 29,
     "metadata": {},
     "output_type": "execute_result"
    }
   ],
   "source": [
    "x[1:6]"
   ]
  },
  {
   "cell_type": "code",
   "execution_count": 31,
   "id": "860fcdda",
   "metadata": {},
   "outputs": [
    {
     "data": {
      "text/plain": [
       "'d Fari'"
      ]
     },
     "execution_count": 31,
     "metadata": {},
     "output_type": "execute_result"
    }
   ],
   "source": [
    "x[-7:-1]"
   ]
  },
  {
   "cell_type": "code",
   "execution_count": 35,
   "id": "e85ee5fe",
   "metadata": {},
   "outputs": [
    {
     "data": {
      "text/plain": [
       "'mmad Fari'"
      ]
     },
     "execution_count": 35,
     "metadata": {},
     "output_type": "execute_result"
    }
   ],
   "source": [
    "x[-10:-1]"
   ]
  },
  {
   "cell_type": "code",
   "execution_count": 39,
   "id": "097dee6a",
   "metadata": {},
   "outputs": [
    {
     "data": {
      "text/plain": [
       "'Mohammad Farid'"
      ]
     },
     "execution_count": 39,
     "metadata": {},
     "output_type": "execute_result"
    }
   ],
   "source": [
    "x[0:len(x)]"
   ]
  },
  {
   "cell_type": "code",
   "execution_count": 44,
   "id": "a38b6451",
   "metadata": {},
   "outputs": [
    {
     "data": {
      "text/plain": [
       "'Mohammad Fa'"
      ]
     },
     "execution_count": 44,
     "metadata": {},
     "output_type": "execute_result"
    }
   ],
   "source": [
    "x[:-3]"
   ]
  },
  {
   "cell_type": "code",
   "execution_count": 45,
   "id": "dfb5782c",
   "metadata": {},
   "outputs": [
    {
     "data": {
      "text/plain": [
       "'diraF dammahoM'"
      ]
     },
     "execution_count": 45,
     "metadata": {},
     "output_type": "execute_result"
    }
   ],
   "source": [
    "x[: : -1]"
   ]
  },
  {
   "cell_type": "code",
   "execution_count": 49,
   "id": "a075db8d",
   "metadata": {},
   "outputs": [
    {
     "data": {
      "text/plain": [
       "'Mohammad Farid'"
      ]
     },
     "execution_count": 49,
     "metadata": {},
     "output_type": "execute_result"
    }
   ],
   "source": [
    "x"
   ]
  },
  {
   "cell_type": "code",
   "execution_count": 51,
   "id": "f2706363",
   "metadata": {},
   "outputs": [
    {
     "data": {
      "text/plain": [
       "['Mohammad', 'Farid']"
      ]
     },
     "execution_count": 51,
     "metadata": {},
     "output_type": "execute_result"
    }
   ],
   "source": [
    "x.split()"
   ]
  },
  {
   "cell_type": "code",
   "execution_count": 53,
   "id": "982ced32",
   "metadata": {},
   "outputs": [
    {
     "data": {
      "text/plain": [
       "['Mohammad Farid']"
      ]
     },
     "execution_count": 53,
     "metadata": {},
     "output_type": "execute_result"
    }
   ],
   "source": [
    "x.split(',') #There is no comma in he string"
   ]
  },
  {
   "cell_type": "code",
   "execution_count": 55,
   "id": "21122aee",
   "metadata": {},
   "outputs": [
    {
     "data": {
      "text/plain": [
       "['Moh', 'mm', 'd F', 'rid']"
      ]
     },
     "execution_count": 55,
     "metadata": {},
     "output_type": "execute_result"
    }
   ],
   "source": [
    "x.split('a') # Split the string based on 'a' and return in a list"
   ]
  },
  {
   "cell_type": "code",
   "execution_count": 57,
   "id": "c7608e8b",
   "metadata": {},
   "outputs": [],
   "source": [
    "x=\"mOhammad fArid\""
   ]
  },
  {
   "cell_type": "code",
   "execution_count": 62,
   "id": "0a362490",
   "metadata": {},
   "outputs": [
    {
     "data": {
      "text/plain": [
       "'Mohammad Farid'"
      ]
     },
     "execution_count": 62,
     "metadata": {},
     "output_type": "execute_result"
    }
   ],
   "source": [
    "x.title() # Make a very first letter in Upper Case"
   ]
  },
  {
   "cell_type": "code",
   "execution_count": 63,
   "id": "5bde5d4d",
   "metadata": {},
   "outputs": [],
   "source": [
    "# Return the capitalize version of the string"
   ]
  },
  {
   "cell_type": "code",
   "execution_count": 64,
   "id": "d9a1ae89",
   "metadata": {},
   "outputs": [
    {
     "data": {
      "text/plain": [
       "'mOhammad fArid'"
      ]
     },
     "execution_count": 64,
     "metadata": {},
     "output_type": "execute_result"
    }
   ],
   "source": [
    "x"
   ]
  },
  {
   "cell_type": "code",
   "execution_count": 66,
   "id": "1d350bdc",
   "metadata": {},
   "outputs": [
    {
     "data": {
      "text/plain": [
       "'Mohammad farid'"
      ]
     },
     "execution_count": 66,
     "metadata": {},
     "output_type": "execute_result"
    }
   ],
   "source": [
    "x.capitalize()"
   ]
  },
  {
   "cell_type": "code",
   "execution_count": null,
   "id": "32701fe5",
   "metadata": {},
   "outputs": [],
   "source": []
  },
  {
   "cell_type": "code",
   "execution_count": null,
   "id": "161ffef2",
   "metadata": {},
   "outputs": [],
   "source": []
  },
  {
   "cell_type": "code",
   "execution_count": null,
   "id": "b0326e1f",
   "metadata": {},
   "outputs": [],
   "source": []
  },
  {
   "cell_type": "markdown",
   "id": "3ee2c491",
   "metadata": {},
   "source": [
    "# LIST"
   ]
  },
  {
   "cell_type": "code",
   "execution_count": 67,
   "id": "855fd955",
   "metadata": {},
   "outputs": [],
   "source": [
    "mylist = [\"apple\", \"banana\", \"cherry\"]"
   ]
  },
  {
   "cell_type": "code",
   "execution_count": 68,
   "id": "769746bc",
   "metadata": {},
   "outputs": [
    {
     "data": {
      "text/plain": [
       "['apple', 'banana', 'cherry']"
      ]
     },
     "execution_count": 68,
     "metadata": {},
     "output_type": "execute_result"
    }
   ],
   "source": [
    "mylist  "
   ]
  },
  {
   "cell_type": "code",
   "execution_count": 69,
   "id": "e4206672",
   "metadata": {},
   "outputs": [],
   "source": [
    "# Lists are used to store multiple items in a single variable."
   ]
  },
  {
   "cell_type": "code",
   "execution_count": 70,
   "id": "a618c2b4",
   "metadata": {},
   "outputs": [],
   "source": [
    "# List items are ordered, changeable, and allow duplicate values."
   ]
  },
  {
   "cell_type": "code",
   "execution_count": 71,
   "id": "66ad738d",
   "metadata": {},
   "outputs": [],
   "source": [
    "# List items are indexed, the first item has index [0], the second item has index [1] etc."
   ]
  },
  {
   "cell_type": "code",
   "execution_count": 72,
   "id": "898228ad",
   "metadata": {},
   "outputs": [],
   "source": [
    "#To determine how many items a list has, use the len() function"
   ]
  },
  {
   "cell_type": "code",
   "execution_count": 73,
   "id": "d0804429",
   "metadata": {},
   "outputs": [
    {
     "data": {
      "text/plain": [
       "3"
      ]
     },
     "execution_count": 73,
     "metadata": {},
     "output_type": "execute_result"
    }
   ],
   "source": [
    "Li = [\"apple\", \"banana\", \"cherry\"]\n",
    "len(Li)"
   ]
  },
  {
   "cell_type": "code",
   "execution_count": 74,
   "id": "3662d106",
   "metadata": {},
   "outputs": [
    {
     "data": {
      "text/plain": [
       "list"
      ]
     },
     "execution_count": 74,
     "metadata": {},
     "output_type": "execute_result"
    }
   ],
   "source": [
    "type(Li)"
   ]
  },
  {
   "cell_type": "code",
   "execution_count": 75,
   "id": "ab476ca0",
   "metadata": {},
   "outputs": [],
   "source": [
    "#Insert \"watermelon\" as the third item:"
   ]
  },
  {
   "cell_type": "code",
   "execution_count": 76,
   "id": "1ef7deb7",
   "metadata": {},
   "outputs": [
    {
     "name": "stdout",
     "output_type": "stream",
     "text": [
      "['apple', 'banana', 'watermelon', 'cherry']\n"
     ]
    }
   ],
   "source": [
    "Li = [\"apple\", \"banana\", \"cherry\"]\n",
    "Li.insert(2, \"watermelon\")    # List.insert(index,item)\n",
    "print(Li)"
   ]
  },
  {
   "cell_type": "code",
   "execution_count": 81,
   "id": "93860066",
   "metadata": {},
   "outputs": [],
   "source": [
    "#Using the append() method to append an item"
   ]
  },
  {
   "cell_type": "code",
   "execution_count": 83,
   "id": "d12b149b",
   "metadata": {},
   "outputs": [
    {
     "name": "stdout",
     "output_type": "stream",
     "text": [
      "['apple', 'banana', 'cherry', 'orange']\n"
     ]
    }
   ],
   "source": [
    "Li = [\"apple\", \"banana\", \"cherry\"]\n",
    "Li.append(\"orange\")  # It will add the item at the end of the list\n",
    "print(Li)"
   ]
  },
  {
   "cell_type": "code",
   "execution_count": 84,
   "id": "c77cd48b",
   "metadata": {},
   "outputs": [],
   "source": [
    "#Extend List\n",
    "#To append elements from another list to the current list, use the extend() method."
   ]
  },
  {
   "cell_type": "code",
   "execution_count": 85,
   "id": "39d53630",
   "metadata": {},
   "outputs": [
    {
     "name": "stdout",
     "output_type": "stream",
     "text": [
      "['apple', 'banana', 'cherry', 'mango', 'pineapple', 'papaya']\n"
     ]
    }
   ],
   "source": [
    "Li1 = [\"apple\", \"banana\", \"cherry\"]\n",
    "Li2 = [\"mango\", \"pineapple\", \"papaya\"]\n",
    "Li1.extend(Li2)\n",
    "print(Li1)"
   ]
  },
  {
   "cell_type": "code",
   "execution_count": 86,
   "id": "810c7223",
   "metadata": {},
   "outputs": [],
   "source": [
    "#The remove() method removes the specified item"
   ]
  },
  {
   "cell_type": "code",
   "execution_count": 87,
   "id": "afe2f4a8",
   "metadata": {},
   "outputs": [
    {
     "name": "stdout",
     "output_type": "stream",
     "text": [
      "['apple', 'cherry']\n"
     ]
    }
   ],
   "source": [
    "Li = [\"apple\", \"banana\", \"cherry\"]\n",
    "Li.remove(\"banana\")\n",
    "print(Li)"
   ]
  },
  {
   "cell_type": "code",
   "execution_count": 88,
   "id": "83daf88e",
   "metadata": {},
   "outputs": [],
   "source": [
    "#Remove Specified Index\n",
    "#The pop() method removes the specified index."
   ]
  },
  {
   "cell_type": "code",
   "execution_count": 89,
   "id": "2258b4d4",
   "metadata": {},
   "outputs": [
    {
     "name": "stdout",
     "output_type": "stream",
     "text": [
      "['apple', 'cherry']\n"
     ]
    }
   ],
   "source": [
    "Li = [\"apple\", \"banana\", \"cherry\"]\n",
    "Li.pop(1)\n",
    "print(Li)"
   ]
  },
  {
   "cell_type": "code",
   "execution_count": 90,
   "id": "4ff4b666",
   "metadata": {},
   "outputs": [],
   "source": [
    "#If you do not specify the index, the pop() method removes the last item"
   ]
  },
  {
   "cell_type": "code",
   "execution_count": 91,
   "id": "905e0c8b",
   "metadata": {},
   "outputs": [
    {
     "name": "stdout",
     "output_type": "stream",
     "text": [
      "['apple', 'banana']\n"
     ]
    }
   ],
   "source": [
    "Li1 = [\"apple\", \"banana\", \"cherry\"]\n",
    "Li1.pop()\n",
    "print(Li1)"
   ]
  },
  {
   "cell_type": "code",
   "execution_count": null,
   "id": "298ca85c",
   "metadata": {},
   "outputs": [],
   "source": []
  },
  {
   "cell_type": "code",
   "execution_count": null,
   "id": "bdae8ea4",
   "metadata": {},
   "outputs": [],
   "source": []
  },
  {
   "cell_type": "code",
   "execution_count": null,
   "id": "2617f74a",
   "metadata": {},
   "outputs": [],
   "source": []
  },
  {
   "cell_type": "code",
   "execution_count": null,
   "id": "40ff3216",
   "metadata": {},
   "outputs": [],
   "source": []
  },
  {
   "cell_type": "markdown",
   "id": "4460ac3c",
   "metadata": {},
   "source": [
    "# Tuple"
   ]
  },
  {
   "cell_type": "code",
   "execution_count": 92,
   "id": "f272cde5",
   "metadata": {},
   "outputs": [],
   "source": [
    "mytuple = (\"apple\", \"banana\", \"cherry\")"
   ]
  },
  {
   "cell_type": "code",
   "execution_count": 93,
   "id": "feda237f",
   "metadata": {},
   "outputs": [],
   "source": [
    "#Tuples are used to store multiple items in a single variable.\n",
    "#Tuple items are ordered, unchangeable, and allow duplicate values.\n",
    "#Tuple items are indexed, the first item has index [0], the second item has index [1] etc."
   ]
  },
  {
   "cell_type": "code",
   "execution_count": 98,
   "id": "af3e27b8",
   "metadata": {},
   "outputs": [
    {
     "name": "stdout",
     "output_type": "stream",
     "text": [
      "('apple', 'banana', 'cherry', 'apple', 'cherry')\n"
     ]
    }
   ],
   "source": [
    "Tup = (\"apple\", \"banana\", \"cherry\", \"apple\", \"cherry\")\n",
    "print(Tup)"
   ]
  },
  {
   "cell_type": "code",
   "execution_count": 99,
   "id": "20f736a8",
   "metadata": {},
   "outputs": [],
   "source": [
    "#Create Tuple With One Item"
   ]
  },
  {
   "cell_type": "code",
   "execution_count": 100,
   "id": "5b536bce",
   "metadata": {},
   "outputs": [],
   "source": [
    "#To create a tuple with only one item, you have to add a comma after the item, \n",
    "#otherwise Python will not recognize it as a tuple."
   ]
  },
  {
   "cell_type": "code",
   "execution_count": 102,
   "id": "e257523b",
   "metadata": {},
   "outputs": [
    {
     "data": {
      "text/plain": [
       "tuple"
      ]
     },
     "execution_count": 102,
     "metadata": {},
     "output_type": "execute_result"
    }
   ],
   "source": [
    "Tup = (\"apple\",)\n",
    "type(Tup)"
   ]
  },
  {
   "cell_type": "code",
   "execution_count": 105,
   "id": "82eca0f8",
   "metadata": {},
   "outputs": [
    {
     "ename": "TypeError",
     "evalue": "can only concatenate list (not \"int\") to list",
     "output_type": "error",
     "traceback": [
      "\u001b[1;31m---------------------------------------------------------------------------\u001b[0m",
      "\u001b[1;31mTypeError\u001b[0m                                 Traceback (most recent call last)",
      "Cell \u001b[1;32mIn[105], line 1\u001b[0m\n\u001b[1;32m----> 1\u001b[0m \u001b[43mLi\u001b[49m\u001b[38;5;241;43m+\u001b[39;49m\u001b[38;5;241;43m1\u001b[39;49m\n",
      "\u001b[1;31mTypeError\u001b[0m: can only concatenate list (not \"int\") to list"
     ]
    }
   ],
   "source": []
  },
  {
   "cell_type": "code",
   "execution_count": null,
   "id": "f5e8dbff",
   "metadata": {},
   "outputs": [],
   "source": []
  }
 ],
 "metadata": {
  "kernelspec": {
   "display_name": "Python 3 (ipykernel)",
   "language": "python",
   "name": "python3"
  },
  "language_info": {
   "codemirror_mode": {
    "name": "ipython",
    "version": 3
   },
   "file_extension": ".py",
   "mimetype": "text/x-python",
   "name": "python",
   "nbconvert_exporter": "python",
   "pygments_lexer": "ipython3",
   "version": "3.10.9"
  }
 },
 "nbformat": 4,
 "nbformat_minor": 5
}
